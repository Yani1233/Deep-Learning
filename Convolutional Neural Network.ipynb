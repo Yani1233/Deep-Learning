{
  "nbformat": 4,
  "nbformat_minor": 0,
  "metadata": {
    "colab": {
      "name": " CNN .ipynb",
      "provenance": [],
      "collapsed_sections": [],
      "toc_visible": true
    },
    "kernelspec": {
      "name": "python3",
      "display_name": "Python 3"
    },
    "accelerator": "TPU"
  },
  "cells": [
    {
      "cell_type": "markdown",
      "metadata": {
        "id": "3DR-eO17geWu",
        "colab_type": "text"
      },
      "source": [
        "# Convolutional Neural Network"
      ]
    },
    {
      "cell_type": "markdown",
      "metadata": {
        "id": "EMefrVPCg-60",
        "colab_type": "text"
      },
      "source": [
        "### Importing the libraries"
      ]
    },
    {
      "cell_type": "code",
      "metadata": {
        "id": "sCV30xyVhFbE",
        "colab_type": "code",
        "colab": {}
      },
      "source": [
        "import tensorflow as tf\n",
        "from keras.models import Sequential\n",
        "from keras.layers import Conv2D\n",
        "from keras.layers import MaxPool2D\n",
        "from keras.layers import Flatten\n",
        "from keras.layers import Dense\n",
        "from keras.layers import Dropout\n",
        "from keras.preprocessing.image import ImageDataGenerator"
      ],
      "execution_count": null,
      "outputs": []
    },
    {
      "cell_type": "code",
      "metadata": {
        "id": "FIleuCAjoFD8",
        "colab_type": "code",
        "colab": {
          "base_uri": "https://localhost:8080/",
          "height": 35
        },
        "outputId": "72cad015-0353-41ef-e56e-f9f990ce4245"
      },
      "source": [
        "tf.__version__"
      ],
      "execution_count": null,
      "outputs": [
        {
          "output_type": "execute_result",
          "data": {
            "application/vnd.google.colaboratory.intrinsic": {
              "type": "string"
            },
            "text/plain": [
              "'2.2.0'"
            ]
          },
          "metadata": {
            "tags": []
          },
          "execution_count": 5
        }
      ]
    },
    {
      "cell_type": "markdown",
      "metadata": {
        "id": "toBGfKyJ_3-U",
        "colab_type": "text"
      },
      "source": [
        "\n",
        "https://drive.google.com/drive/folders/1vD3nI6pt4v7Tss6F-NjD31n-7sN6hFOd?usp=sharing"
      ]
    },
    {
      "cell_type": "code",
      "metadata": {
        "id": "BPsJvJbjdd47",
        "colab_type": "code",
        "colab": {
          "base_uri": "https://localhost:8080/",
          "height": 122
        },
        "outputId": "73785171-3ebf-4779-9822-d116985bc836"
      },
      "source": [
        "from google.colab import drive\n",
        "drive.mount('/content/drive')"
      ],
      "execution_count": null,
      "outputs": [
        {
          "output_type": "stream",
          "text": [
            "Go to this URL in a browser: https://accounts.google.com/o/oauth2/auth?client_id=947318989803-6bn6qk8qdgf4n4g3pfee6491hc0brc4i.apps.googleusercontent.com&redirect_uri=urn%3aietf%3awg%3aoauth%3a2.0%3aoob&response_type=code&scope=email%20https%3a%2f%2fwww.googleapis.com%2fauth%2fdocs.test%20https%3a%2f%2fwww.googleapis.com%2fauth%2fdrive%20https%3a%2f%2fwww.googleapis.com%2fauth%2fdrive.photos.readonly%20https%3a%2f%2fwww.googleapis.com%2fauth%2fpeopleapi.readonly\n",
            "\n",
            "Enter your authorization code:\n",
            "··········\n",
            "Mounted at /content/drive\n"
          ],
          "name": "stdout"
        }
      ]
    },
    {
      "cell_type": "code",
      "metadata": {
        "id": "xTXMvCcg-9EL",
        "colab_type": "code",
        "colab": {}
      },
      "source": [
        "import os"
      ],
      "execution_count": null,
      "outputs": []
    },
    {
      "cell_type": "markdown",
      "metadata": {
        "id": "oxQxCBWyoGPE",
        "colab_type": "text"
      },
      "source": [
        "## Part 1 - Data Preprocessing"
      ]
    },
    {
      "cell_type": "markdown",
      "metadata": {
        "id": "MvE-heJNo3GG",
        "colab_type": "text"
      },
      "source": [
        "### Preprocessing the Training set"
      ]
    },
    {
      "cell_type": "code",
      "metadata": {
        "id": "0koUcJMJpEBD",
        "colab_type": "code",
        "colab": {
          "base_uri": "https://localhost:8080/",
          "height": 34
        },
        "outputId": "4af8d452-6929-49a8-a696-95ca6d0252ff"
      },
      "source": [
        "\n",
        "train_datagen = ImageDataGenerator(rescale = 1./255,\n",
        "                                   shear_range = 0.2,\n",
        "                                   zoom_range = 0.2,\n",
        "                                   horizontal_flip = True)\n",
        "training_set = train_datagen.flow_from_directory('/content/drive/My Drive/dataset/training_set',\n",
        "                                                 target_size = (64, 64),\n",
        "                                                 batch_size = 32,\n",
        "                                                 class_mode = 'binary')"
      ],
      "execution_count": null,
      "outputs": [
        {
          "output_type": "stream",
          "text": [
            "Found 8000 images belonging to 2 classes.\n"
          ],
          "name": "stdout"
        }
      ]
    },
    {
      "cell_type": "markdown",
      "metadata": {
        "id": "mrCMmGw9pHys",
        "colab_type": "text"
      },
      "source": [
        "### Preprocessing the Test set"
      ]
    },
    {
      "cell_type": "code",
      "metadata": {
        "id": "SH4WzfOhpKc3",
        "colab_type": "code",
        "colab": {
          "base_uri": "https://localhost:8080/",
          "height": 34
        },
        "outputId": "e0490349-a96a-49aa-ca94-eef2d7fcc41f"
      },
      "source": [
        "test_datagen = ImageDataGenerator(rescale = 1./255)\n",
        "test_set = test_datagen.flow_from_directory('/content/drive/My Drive/dataset/test_set',\n",
        "                                            target_size = (64, 64),\n",
        "                                            batch_size = 32,\n",
        "                                            class_mode = 'binary')"
      ],
      "execution_count": null,
      "outputs": [
        {
          "output_type": "stream",
          "text": [
            "Found 2000 images belonging to 2 classes.\n"
          ],
          "name": "stdout"
        }
      ]
    },
    {
      "cell_type": "markdown",
      "metadata": {
        "id": "af8O4l90gk7B",
        "colab_type": "text"
      },
      "source": [
        "## Part 2 - Building the CNN"
      ]
    },
    {
      "cell_type": "markdown",
      "metadata": {
        "id": "ces1gXY2lmoX",
        "colab_type": "text"
      },
      "source": [
        "### Initialising the CNN"
      ]
    },
    {
      "cell_type": "code",
      "metadata": {
        "id": "SAUt4UMPlhLS",
        "colab_type": "code",
        "colab": {}
      },
      "source": [
        "classifier = Sequential()"
      ],
      "execution_count": null,
      "outputs": []
    },
    {
      "cell_type": "markdown",
      "metadata": {
        "id": "u5YJj_XMl5LF",
        "colab_type": "text"
      },
      "source": [
        "### Step 1 - Convolution"
      ]
    },
    {
      "cell_type": "code",
      "metadata": {
        "id": "XPzPrMckl-hV",
        "colab_type": "code",
        "colab": {}
      },
      "source": [
        "classifier.add(Conv2D(32, (3, 3), input_shape = (64, 64, 3), activation = 'relu'))"
      ],
      "execution_count": null,
      "outputs": []
    },
    {
      "cell_type": "markdown",
      "metadata": {
        "id": "tf87FpvxmNOJ",
        "colab_type": "text"
      },
      "source": [
        "### Step 2 - Pooling"
      ]
    },
    {
      "cell_type": "code",
      "metadata": {
        "id": "ncpqPl69mOac",
        "colab_type": "code",
        "colab": {}
      },
      "source": [
        "classifier.add(MaxPool2D(pool_size = (2, 2)))"
      ],
      "execution_count": null,
      "outputs": []
    },
    {
      "cell_type": "markdown",
      "metadata": {
        "id": "xaTOgD8rm4mU",
        "colab_type": "text"
      },
      "source": [
        "### Adding a second convolutional layer"
      ]
    },
    {
      "cell_type": "code",
      "metadata": {
        "id": "i_-FZjn_m8gk",
        "colab_type": "code",
        "colab": {}
      },
      "source": [
        "classifier.add(Conv2D(64, (3, 3), activation = 'relu'))\n",
        "classifier.add(MaxPool2D(pool_size = (2, 2)))\n"
      ],
      "execution_count": null,
      "outputs": []
    },
    {
      "cell_type": "code",
      "metadata": {
        "id": "DChgghSDTl2K",
        "colab_type": "code",
        "colab": {}
      },
      "source": [
        "classifier.add(Conv2D(64, (3, 3), activation = 'relu'))"
      ],
      "execution_count": null,
      "outputs": []
    },
    {
      "cell_type": "markdown",
      "metadata": {
        "id": "tmiEuvTunKfk",
        "colab_type": "text"
      },
      "source": [
        "### Step 3 - Flattening"
      ]
    },
    {
      "cell_type": "code",
      "metadata": {
        "id": "6AZeOGCvnNZn",
        "colab_type": "code",
        "colab": {}
      },
      "source": [
        "classifier.add(Flatten())"
      ],
      "execution_count": null,
      "outputs": []
    },
    {
      "cell_type": "markdown",
      "metadata": {
        "id": "dAoSECOm203v",
        "colab_type": "text"
      },
      "source": [
        "### Step 4 - Full Connection"
      ]
    },
    {
      "cell_type": "code",
      "metadata": {
        "id": "8GtmUlLd26Nq",
        "colab_type": "code",
        "colab": {
          "base_uri": "https://localhost:8080/",
          "height": 71
        },
        "outputId": "67f88f90-7017-4d10-e528-4bb8d6d6820d"
      },
      "source": [
        "\n",
        "classifier.add(Dense(units = 128,kernel_initializer = 'uniform', activation = 'relu'))\n",
        "classifier.add(Dropout(p = 0.3))\n"
      ],
      "execution_count": null,
      "outputs": [
        {
          "output_type": "stream",
          "text": [
            "/usr/local/lib/python3.6/dist-packages/ipykernel_launcher.py:3: UserWarning: Update your `Dropout` call to the Keras 2 API: `Dropout(rate=0.3)`\n",
            "  This is separate from the ipykernel package so we can avoid doing imports until\n"
          ],
          "name": "stderr"
        }
      ]
    },
    {
      "cell_type": "code",
      "metadata": {
        "id": "YNSAI-XcTtkE",
        "colab_type": "code",
        "colab": {
          "base_uri": "https://localhost:8080/",
          "height": 71
        },
        "outputId": "437e3a7c-d190-4ef5-fbb1-60f849188538"
      },
      "source": [
        "classifier.add(Dense(units = 128,kernel_initializer = 'uniform', activation = 'relu'))\n",
        "classifier.add(Dropout(p = 0.3))"
      ],
      "execution_count": null,
      "outputs": [
        {
          "output_type": "stream",
          "text": [
            "/usr/local/lib/python3.6/dist-packages/ipykernel_launcher.py:2: UserWarning: Update your `Dropout` call to the Keras 2 API: `Dropout(rate=0.3)`\n",
            "  \n"
          ],
          "name": "stderr"
        }
      ]
    },
    {
      "cell_type": "markdown",
      "metadata": {
        "id": "yTldFvbX28Na",
        "colab_type": "text"
      },
      "source": [
        "### Step 5 - Output Layer"
      ]
    },
    {
      "cell_type": "code",
      "metadata": {
        "id": "1p_Zj1Mc3Ko_",
        "colab_type": "code",
        "colab": {}
      },
      "source": [
        "classifier.add(Dense(units = 1,kernel_initializer = 'uniform', activation = 'sigmoid'))"
      ],
      "execution_count": null,
      "outputs": []
    },
    {
      "cell_type": "markdown",
      "metadata": {
        "id": "D6XkI90snSDl",
        "colab_type": "text"
      },
      "source": [
        "## Part 3 - Training the CNN"
      ]
    },
    {
      "cell_type": "markdown",
      "metadata": {
        "id": "vfrFQACEnc6i",
        "colab_type": "text"
      },
      "source": [
        "### Compiling the CNN"
      ]
    },
    {
      "cell_type": "code",
      "metadata": {
        "id": "NALksrNQpUlJ",
        "colab_type": "code",
        "colab": {}
      },
      "source": [
        "classifier.compile(optimizer = 'adam', loss = 'binary_crossentropy', metrics = ['accuracy'])\n"
      ],
      "execution_count": null,
      "outputs": []
    },
    {
      "cell_type": "markdown",
      "metadata": {
        "id": "ehS-v3MIpX2h",
        "colab_type": "text"
      },
      "source": [
        "### Training the CNN on the Training set and evaluating it on the Test set"
      ]
    },
    {
      "cell_type": "code",
      "metadata": {
        "id": "vW_-3NCPUfrc",
        "colab_type": "code",
        "colab": {
          "base_uri": "https://localhost:8080/",
          "height": 884
        },
        "outputId": "1aa410e7-d49c-48cd-f0ae-40f1c3563995"
      },
      "source": [
        "classifier.fit_generator(training_set,\n",
        "                         epochs=25,\n",
        "                         validation_data=test_set,\n",
        "                         validation_steps=2000)"
      ],
      "execution_count": null,
      "outputs": [
        {
          "output_type": "stream",
          "text": [
            "Epoch 1/25\n",
            "250/250 [==============================] - 2562s 10s/step - loss: 0.6915 - accuracy: 0.5228 - val_loss: 0.6881 - val_accuracy: 0.5729\n",
            "Epoch 2/25\n",
            "250/250 [==============================] - 386s 2s/step - loss: 0.6665 - accuracy: 0.5854 - val_loss: 0.5418 - val_accuracy: 0.6410\n",
            "Epoch 3/25\n",
            "250/250 [==============================] - 388s 2s/step - loss: 0.6393 - accuracy: 0.6298 - val_loss: 0.5572 - val_accuracy: 0.6852\n",
            "Epoch 4/25\n",
            "250/250 [==============================] - 389s 2s/step - loss: 0.6105 - accuracy: 0.6675 - val_loss: 0.5590 - val_accuracy: 0.7010\n",
            "Epoch 5/25\n",
            "250/250 [==============================] - 389s 2s/step - loss: 0.5815 - accuracy: 0.6961 - val_loss: 0.6557 - val_accuracy: 0.7129\n",
            "Epoch 6/25\n",
            "250/250 [==============================] - 392s 2s/step - loss: 0.5602 - accuracy: 0.7129 - val_loss: 0.4453 - val_accuracy: 0.7316\n",
            "Epoch 7/25\n",
            "250/250 [==============================] - 391s 2s/step - loss: 0.5370 - accuracy: 0.7294 - val_loss: 0.4576 - val_accuracy: 0.7387\n",
            "Epoch 8/25\n",
            "250/250 [==============================] - 390s 2s/step - loss: 0.5049 - accuracy: 0.7534 - val_loss: 0.3446 - val_accuracy: 0.7624\n",
            "Epoch 9/25\n",
            "250/250 [==============================] - 391s 2s/step - loss: 0.4832 - accuracy: 0.7667 - val_loss: 0.4721 - val_accuracy: 0.7844\n",
            "Epoch 10/25\n",
            "250/250 [==============================] - 392s 2s/step - loss: 0.4618 - accuracy: 0.7875 - val_loss: 0.8304 - val_accuracy: 0.7830\n",
            "Epoch 11/25\n",
            "250/250 [==============================] - 392s 2s/step - loss: 0.4414 - accuracy: 0.7950 - val_loss: 0.8233 - val_accuracy: 0.7903\n",
            "Epoch 12/25\n",
            "250/250 [==============================] - 391s 2s/step - loss: 0.4230 - accuracy: 0.8034 - val_loss: 0.2573 - val_accuracy: 0.8076\n",
            "Epoch 13/25\n",
            "250/250 [==============================] - 392s 2s/step - loss: 0.4171 - accuracy: 0.8061 - val_loss: 0.6898 - val_accuracy: 0.7910\n",
            "Epoch 14/25\n",
            "250/250 [==============================] - 386s 2s/step - loss: 0.4018 - accuracy: 0.8192 - val_loss: 0.5704 - val_accuracy: 0.8111\n",
            "Epoch 15/25\n",
            "250/250 [==============================] - 387s 2s/step - loss: 0.3895 - accuracy: 0.8267 - val_loss: 0.3178 - val_accuracy: 0.8158\n",
            "Epoch 16/25\n",
            "250/250 [==============================] - 389s 2s/step - loss: 0.3798 - accuracy: 0.8269 - val_loss: 0.2793 - val_accuracy: 0.8301\n",
            "Epoch 17/25\n",
            "250/250 [==============================] - 393s 2s/step - loss: 0.3666 - accuracy: 0.8355 - val_loss: 0.2277 - val_accuracy: 0.7919\n",
            "Epoch 18/25\n",
            "250/250 [==============================] - 391s 2s/step - loss: 0.3498 - accuracy: 0.8470 - val_loss: 0.2935 - val_accuracy: 0.8199\n",
            "Epoch 19/25\n",
            "250/250 [==============================] - 393s 2s/step - loss: 0.3362 - accuracy: 0.8539 - val_loss: 0.8436 - val_accuracy: 0.8329\n",
            "Epoch 20/25\n",
            "250/250 [==============================] - 392s 2s/step - loss: 0.3248 - accuracy: 0.8591 - val_loss: 0.3180 - val_accuracy: 0.8241\n",
            "Epoch 21/25\n",
            "250/250 [==============================] - 394s 2s/step - loss: 0.3229 - accuracy: 0.8599 - val_loss: 0.3504 - val_accuracy: 0.8261\n",
            "Epoch 22/25\n",
            "250/250 [==============================] - 390s 2s/step - loss: 0.3005 - accuracy: 0.8699 - val_loss: 0.3730 - val_accuracy: 0.8182\n",
            "Epoch 23/25\n",
            "250/250 [==============================] - 393s 2s/step - loss: 0.2991 - accuracy: 0.8731 - val_loss: 0.3366 - val_accuracy: 0.8421\n",
            "Epoch 24/25\n",
            "250/250 [==============================] - 393s 2s/step - loss: 0.2908 - accuracy: 0.8761 - val_loss: 0.3660 - val_accuracy: 0.8410\n",
            "Epoch 25/25\n",
            "250/250 [==============================] - 391s 2s/step - loss: 0.2746 - accuracy: 0.8852 - val_loss: 0.2204 - val_accuracy: 0.8399\n"
          ],
          "name": "stdout"
        },
        {
          "output_type": "execute_result",
          "data": {
            "text/plain": [
              "<keras.callbacks.callbacks.History at 0x7f13c7fdaf28>"
            ]
          },
          "metadata": {
            "tags": []
          },
          "execution_count": 20
        }
      ]
    },
    {
      "cell_type": "code",
      "metadata": {
        "id": "K_W6GOrfXf93",
        "colab_type": "code",
        "colab": {}
      },
      "source": [
        "from keras.models import load_model\n",
        "classifier.save('cnn')"
      ],
      "execution_count": null,
      "outputs": []
    },
    {
      "cell_type": "markdown",
      "metadata": {
        "id": "U3PZasO0006Z",
        "colab_type": "text"
      },
      "source": [
        "## Part 4 - Making a single prediction"
      ]
    },
    {
      "cell_type": "code",
      "metadata": {
        "id": "6X8SWekgYWfM",
        "colab_type": "code",
        "colab": {
          "base_uri": "https://localhost:8080/",
          "height": 527
        },
        "outputId": "71420722-d08c-4e14-ddeb-59df98520fdb"
      },
      "source": [
        "cnn = tf.keras.models.load_model('cnn')\n",
        "cnn.summary()"
      ],
      "execution_count": null,
      "outputs": [
        {
          "output_type": "stream",
          "text": [
            "Model: \"sequential_1\"\n",
            "_________________________________________________________________\n",
            "Layer (type)                 Output Shape              Param #   \n",
            "=================================================================\n",
            "conv2d_1 (Conv2D)            (None, 62, 62, 32)        896       \n",
            "_________________________________________________________________\n",
            "max_pooling2d_1 (MaxPooling2 (None, 31, 31, 32)        0         \n",
            "_________________________________________________________________\n",
            "conv2d_2 (Conv2D)            (None, 29, 29, 64)        18496     \n",
            "_________________________________________________________________\n",
            "max_pooling2d_2 (MaxPooling2 (None, 14, 14, 64)        0         \n",
            "_________________________________________________________________\n",
            "conv2d_3 (Conv2D)            (None, 12, 12, 64)        36928     \n",
            "_________________________________________________________________\n",
            "flatten_1 (Flatten)          (None, 9216)              0         \n",
            "_________________________________________________________________\n",
            "dense_1 (Dense)              (None, 128)               1179776   \n",
            "_________________________________________________________________\n",
            "dropout_1 (Dropout)          (None, 128)               0         \n",
            "_________________________________________________________________\n",
            "dense_2 (Dense)              (None, 128)               16512     \n",
            "_________________________________________________________________\n",
            "dropout_2 (Dropout)          (None, 128)               0         \n",
            "_________________________________________________________________\n",
            "dense_3 (Dense)              (None, 1)                 129       \n",
            "=================================================================\n",
            "Total params: 1,252,737\n",
            "Trainable params: 1,252,737\n",
            "Non-trainable params: 0\n",
            "_________________________________________________________________\n"
          ],
          "name": "stdout"
        }
      ]
    },
    
