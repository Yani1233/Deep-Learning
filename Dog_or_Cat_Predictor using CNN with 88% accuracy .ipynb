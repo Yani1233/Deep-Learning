{
  "nbformat": 4,
  "nbformat_minor": 0,
  "metadata": {
    "colab": {
      "name": "Dog or Cat Predictor.ipynb",
      "provenance": [],
      "collapsed_sections": [],
      "include_colab_link": true
    },
    "kernelspec": {
      "name": "python3",
      "display_name": "Python 3"
    },
    "accelerator": "GPU"
  },
  "cells": [
    {
      "cell_type": "markdown",
      "metadata": {
        "id": "view-in-github",
        "colab_type": "text"
      },
      "source": [
        "<a href=\"https://colab.research.google.com/github/Yani1233/Deep-Learning/blob/master/Dog_or_Cat_Predictor%20using%20CNN%20with%2088%25%20accuracy%20.ipynb\" target=\"_parent\"><img src=\"https://colab.research.google.com/assets/colab-badge.svg\" alt=\"Open In Colab\"/></a>"
      ]
    },
    {
      "cell_type": "markdown",
      "metadata": {
        "id": "3DR-eO17geWu",
        "colab_type": "text"
      },
      "source": [
        "# Convolutional Neural Network"
      ]
    },
    {
      "cell_type": "markdown",
      "metadata": {
        "id": "EMefrVPCg-60",
        "colab_type": "text"
      },
      "source": [
        "### Importing the libraries"
      ]
    },
    {
      "cell_type": "code",
      "metadata": {
        "id": "sCV30xyVhFbE",
        "colab_type": "code",
        "colab": {}
      },
      "source": [
        "import tensorflow as tf\n",
        "from keras.models import Sequential\n",
        "from keras.layers import Conv2D\n",
        "from keras.layers import MaxPool2D\n",
        "from keras.layers import Flatten\n",
        "from keras.layers import Dense\n",
        "from keras.layers import Dropout\n",
        "from keras.preprocessing.image import ImageDataGenerator"
      ],
      "execution_count": null,
      "outputs": []
    },
    {
      "cell_type": "code",
      "metadata": {
        "id": "FIleuCAjoFD8",
        "colab_type": "code",
        "colab": {
          "base_uri": "https://localhost:8080/",
          "height": 35
        },
        "outputId": "e80d4209-ad98-4c9c-e734-47aed4cf471e"
      },
      "source": [
        "tf.__version__"
      ],
      "execution_count": null,
      "outputs": [
        {
          "output_type": "execute_result",
          "data": {
            "application/vnd.google.colaboratory.intrinsic": {
              "type": "string"
            },
            "text/plain": [
              "'2.2.0'"
            ]
          },
          "metadata": {
            "tags": []
          },
          "execution_count": 26
        }
      ]
    },
    {
      "cell_type": "code",
      "metadata": {
        "id": "BPsJvJbjdd47",
        "colab_type": "code",
        "colab": {
          "base_uri": "https://localhost:8080/",
          "height": 34
        },
        "outputId": "9b17f4ea-0b65-432e-8cb9-55e7d99e0930"
      },
      "source": [
        "from google.colab import drive\n",
        "drive.mount('/content/drive')"
      ],
      "execution_count": 42,
      "outputs": [
        {
          "output_type": "stream",
          "text": [
            "Drive already mounted at /content/drive; to attempt to forcibly remount, call drive.mount(\"/content/drive\", force_remount=True).\n"
          ],
          "name": "stdout"
        }
      ]
    },
    {
      "cell_type": "markdown",
      "metadata": {
        "id": "oxQxCBWyoGPE",
        "colab_type": "text"
      },
      "source": [
        "## Part 1 - Data Preprocessing"
      ]
    },
    {
      "cell_type": "markdown",
      "metadata": {
        "id": "MvE-heJNo3GG",
        "colab_type": "text"
      },
      "source": [
        "### Preprocessing the Training set"
      ]
    },
    {
      "cell_type": "code",
      "metadata": {
        "id": "0koUcJMJpEBD",
        "colab_type": "code",
        "colab": {
          "base_uri": "https://localhost:8080/",
          "height": 34
        },
        "outputId": "0a7d23b4-5ed6-40f8-eeb6-20143aeb2682"
      },
      "source": [
        "train_datagen = ImageDataGenerator(rescale = 1./255,\n",
        "                                   shear_range = 0.2,\n",
        "                                   zoom_range = 0.2,\n",
        "                                   horizontal_flip = True)\n",
        "training_set = train_datagen.flow_from_directory('/content/drive/My Drive/dataset/training_set',\n",
        "                                                 target_size = (64, 64),\n",
        "                                                 batch_size = 32,\n",
        "                                                 class_mode = 'binary')"
      ],
      "execution_count": null,
      "outputs": [
        {
          "output_type": "stream",
          "text": [
            "Found 8000 images belonging to 2 classes.\n"
          ],
          "name": "stdout"
        }
      ]
    },
    {
      "cell_type": "markdown",
      "metadata": {
        "id": "mrCMmGw9pHys",
        "colab_type": "text"
      },
      "source": [
        "### Preprocessing the Test set"
      ]
    },
    {
      "cell_type": "code",
      "metadata": {
        "id": "SH4WzfOhpKc3",
        "colab_type": "code",
        "colab": {
          "base_uri": "https://localhost:8080/",
          "height": 34
        },
        "outputId": "42b37f9e-a42c-4463-db77-e013e1a64b0f"
      },
      "source": [
        "test_datagen = ImageDataGenerator(rescale = 1./255)\n",
        "test_set = test_datagen.flow_from_directory('/content/drive/My Drive/dataset/test_set',\n",
        "                                            target_size = (64, 64),\n",
        "                                            batch_size = 32,\n",
        "                                            class_mode = 'binary')"
      ],
      "execution_count": null,
      "outputs": [
        {
          "output_type": "stream",
          "text": [
            "Found 2000 images belonging to 2 classes.\n"
          ],
          "name": "stdout"
        }
      ]
    },
    {
      "cell_type": "markdown",
      "metadata": {
        "id": "af8O4l90gk7B",
        "colab_type": "text"
      },
      "source": [
        "## Part 2 - Building the CNN"
      ]
    },
    {
      "cell_type": "markdown",
      "metadata": {
        "id": "ces1gXY2lmoX",
        "colab_type": "text"
      },
      "source": [
        "### Initialising the CNN"
      ]
    },
    {
      "cell_type": "code",
      "metadata": {
        "id": "SAUt4UMPlhLS",
        "colab_type": "code",
        "colab": {}
      },
      "source": [
        "classifier = Sequential()"
      ],
      "execution_count": null,
      "outputs": []
    },
    {
      "cell_type": "markdown",
      "metadata": {
        "id": "u5YJj_XMl5LF",
        "colab_type": "text"
      },
      "source": [
        "### Step 1 - Convolution"
      ]
    },
    {
      "cell_type": "code",
      "metadata": {
        "id": "XPzPrMckl-hV",
        "colab_type": "code",
        "colab": {}
      },
      "source": [
        "classifier.add(Conv2D(32, (3, 3), input_shape = (64, 64, 3), activation = 'relu'))"
      ],
      "execution_count": null,
      "outputs": []
    },
    {
      "cell_type": "markdown",
      "metadata": {
        "id": "tf87FpvxmNOJ",
        "colab_type": "text"
      },
      "source": [
        "### Step 2 - Pooling"
      ]
    },
    {
      "cell_type": "code",
      "metadata": {
        "id": "ncpqPl69mOac",
        "colab_type": "code",
        "colab": {}
      },
      "source": [
        "classifier.add(MaxPool2D(pool_size = (2, 2)))"
      ],
      "execution_count": null,
      "outputs": []
    },
    {
      "cell_type": "markdown",
      "metadata": {
        "id": "xaTOgD8rm4mU",
        "colab_type": "text"
      },
      "source": [
        "### Adding a second convolutional layer"
      ]
    },
    {
      "cell_type": "code",
      "metadata": {
        "id": "i_-FZjn_m8gk",
        "colab_type": "code",
        "colab": {}
      },
      "source": [
        "classifier.add(Conv2D(64, (3, 3), activation = 'relu'))\n",
        "classifier.add(MaxPool2D(pool_size = (2, 2)))\n"
      ],
      "execution_count": null,
      "outputs": []
    },
    {
      "cell_type": "code",
      "metadata": {
        "id": "DChgghSDTl2K",
        "colab_type": "code",
        "colab": {}
      },
      "source": [
        "classifier.add(Conv2D(64, (3, 3), activation = 'relu'))"
      ],
      "execution_count": null,
      "outputs": []
    },
    {
      "cell_type": "markdown",
      "metadata": {
        "id": "tmiEuvTunKfk",
        "colab_type": "text"
      },
      "source": [
        "### Step 3 - Flattening"
      ]
    },
    {
      "cell_type": "code",
      "metadata": {
        "id": "6AZeOGCvnNZn",
        "colab_type": "code",
        "colab": {}
      },
      "source": [
        "classifier.add(Flatten())"
      ],
      "execution_count": null,
      "outputs": []
    },
    {
      "cell_type": "markdown",
      "metadata": {
        "id": "dAoSECOm203v",
        "colab_type": "text"
      },
      "source": [
        "### Step 4 - Full Connection"
      ]
    },
    {
      "cell_type": "code",
      "metadata": {
        "id": "8GtmUlLd26Nq",
        "colab_type": "code",
        "colab": {
          "base_uri": "https://localhost:8080/",
          "height": 51
        },
        "outputId": "42ec9561-64a4-46f9-cb25-c3f55d08ab6f"
      },
      "source": [
        "classifier.add(Dense(units = 128,kernel_initializer = 'uniform', activation = 'relu'))\n",
        "classifier.add(Dropout(p = 0.3))\n"
      ],
      "execution_count": null,
      "outputs": [
        {
          "output_type": "stream",
          "text": [
            "/usr/local/lib/python3.6/dist-packages/ipykernel_launcher.py:2: UserWarning: Update your `Dropout` call to the Keras 2 API: `Dropout(rate=0.3)`\n",
            "  \n"
          ],
          "name": "stderr"
        }
      ]
    },
    {
      "cell_type": "code",
      "metadata": {
        "id": "YNSAI-XcTtkE",
        "colab_type": "code",
        "colab": {
          "base_uri": "https://localhost:8080/",
          "height": 51
        },
        "outputId": "11b4fe90-d263-4c93-804e-5f7d1655595d"
      },
      "source": [
        "classifier.add(Dense(units = 128,kernel_initializer = 'uniform', activation = 'relu'))\n",
        "classifier.add(Dropout(p = 0.3))"
      ],
      "execution_count": null,
      "outputs": [
        {
          "output_type": "stream",
          "text": [
            "/usr/local/lib/python3.6/dist-packages/ipykernel_launcher.py:2: UserWarning: Update your `Dropout` call to the Keras 2 API: `Dropout(rate=0.3)`\n",
            "  \n"
          ],
          "name": "stderr"
        }
      ]
    },
    {
      "cell_type": "markdown",
      "metadata": {
        "id": "yTldFvbX28Na",
        "colab_type": "text"
      },
      "source": [
        "### Step 5 - Output Layer"
      ]
    },
    {
      "cell_type": "code",
      "metadata": {
        "id": "1p_Zj1Mc3Ko_",
        "colab_type": "code",
        "colab": {}
      },
      "source": [
        "classifier.add(Dense(units = 1,kernel_initializer = 'uniform', activation = 'sigmoid'))"
      ],
      "execution_count": null,
      "outputs": []
    },
    {
      "cell_type": "markdown",
      "metadata": {
        "id": "D6XkI90snSDl",
        "colab_type": "text"
      },
      "source": [
        "## Part 3 - Training the CNN"
      ]
    },
    {
      "cell_type": "markdown",
      "metadata": {
        "id": "vfrFQACEnc6i",
        "colab_type": "text"
      },
      "source": [
        "### Compiling the CNN"
      ]
    },
    {
      "cell_type": "code",
      "metadata": {
        "id": "NALksrNQpUlJ",
        "colab_type": "code",
        "colab": {}
      },
      "source": [
        "classifier.compile(optimizer = 'adam', loss = 'binary_crossentropy', metrics = ['accuracy'])\n"
      ],
      "execution_count": null,
      "outputs": []
    },
    {
      "cell_type": "markdown",
      "metadata": {
        "id": "ehS-v3MIpX2h",
        "colab_type": "text"
      },
      "source": [
        "### Training the CNN on the Training set and evaluating it on the Test set"
      ]
    },
    {
      "cell_type": "code",
      "metadata": {
        "id": "vW_-3NCPUfrc",
        "colab_type": "code",
        "colab": {
          "base_uri": "https://localhost:8080/",
          "height": 884
        },
        "outputId": "23d2be66-2e2e-41e4-e7ae-96e43395b32a"
      },
      "source": [
        "classifier.fit_generator(training_set,\n",
        "                         steps_per_epoch=250,\n",
        "                         epochs=25,\n",
        "                         validation_data=test_set,\n",
        "                         validation_steps=2000)"
      ],
      "execution_count": 40,
      "outputs": [
        {
          "output_type": "stream",
          "text": [
            "Epoch 1/25\n",
            "250/250 [==============================] - 298s 1s/step - loss: 0.6938 - accuracy: 0.5082 - val_loss: 0.6932 - val_accuracy: 0.5002\n",
            "Epoch 2/25\n",
            "250/250 [==============================] - 294s 1s/step - loss: 0.6622 - accuracy: 0.5976 - val_loss: 0.9079 - val_accuracy: 0.6900\n",
            "Epoch 3/25\n",
            "250/250 [==============================] - 293s 1s/step - loss: 0.6249 - accuracy: 0.6551 - val_loss: 0.6275 - val_accuracy: 0.6662\n",
            "Epoch 4/25\n",
            "250/250 [==============================] - 293s 1s/step - loss: 0.5832 - accuracy: 0.6905 - val_loss: 0.6271 - val_accuracy: 0.6905\n",
            "Epoch 5/25\n",
            "250/250 [==============================] - 293s 1s/step - loss: 0.5588 - accuracy: 0.7170 - val_loss: 0.6969 - val_accuracy: 0.7429\n",
            "Epoch 6/25\n",
            "250/250 [==============================] - 294s 1s/step - loss: 0.5345 - accuracy: 0.7310 - val_loss: 0.5013 - val_accuracy: 0.6860\n",
            "Epoch 7/25\n",
            "250/250 [==============================] - 291s 1s/step - loss: 0.5091 - accuracy: 0.7465 - val_loss: 0.6514 - val_accuracy: 0.7570\n",
            "Epoch 8/25\n",
            "250/250 [==============================] - 291s 1s/step - loss: 0.4831 - accuracy: 0.7675 - val_loss: 0.5367 - val_accuracy: 0.7591\n",
            "Epoch 9/25\n",
            "250/250 [==============================] - 293s 1s/step - loss: 0.4630 - accuracy: 0.7806 - val_loss: 0.6083 - val_accuracy: 0.7895\n",
            "Epoch 10/25\n",
            "250/250 [==============================] - 292s 1s/step - loss: 0.4547 - accuracy: 0.7819 - val_loss: 0.4148 - val_accuracy: 0.7980\n",
            "Epoch 11/25\n",
            "250/250 [==============================] - 290s 1s/step - loss: 0.4389 - accuracy: 0.7921 - val_loss: 0.3456 - val_accuracy: 0.7882\n",
            "Epoch 12/25\n",
            "250/250 [==============================] - 291s 1s/step - loss: 0.4226 - accuracy: 0.8099 - val_loss: 0.3324 - val_accuracy: 0.8128\n",
            "Epoch 13/25\n",
            "250/250 [==============================] - 292s 1s/step - loss: 0.4064 - accuracy: 0.8156 - val_loss: 0.6082 - val_accuracy: 0.8033\n",
            "Epoch 14/25\n",
            "250/250 [==============================] - 292s 1s/step - loss: 0.3951 - accuracy: 0.8176 - val_loss: 0.3202 - val_accuracy: 0.8111\n",
            "Epoch 15/25\n",
            "250/250 [==============================] - 292s 1s/step - loss: 0.3838 - accuracy: 0.8266 - val_loss: 0.5980 - val_accuracy: 0.8090\n",
            "Epoch 16/25\n",
            "250/250 [==============================] - 292s 1s/step - loss: 0.3679 - accuracy: 0.8381 - val_loss: 0.8004 - val_accuracy: 0.8150\n",
            "Epoch 17/25\n",
            "250/250 [==============================] - 291s 1s/step - loss: 0.3558 - accuracy: 0.8405 - val_loss: 0.1917 - val_accuracy: 0.7845\n",
            "Epoch 18/25\n",
            "250/250 [==============================] - 291s 1s/step - loss: 0.3445 - accuracy: 0.8455 - val_loss: 0.3420 - val_accuracy: 0.8384\n",
            "Epoch 19/25\n",
            "250/250 [==============================] - 290s 1s/step - loss: 0.3371 - accuracy: 0.8535 - val_loss: 0.5028 - val_accuracy: 0.8274\n",
            "Epoch 20/25\n",
            "250/250 [==============================] - 290s 1s/step - loss: 0.3148 - accuracy: 0.8661 - val_loss: 0.5952 - val_accuracy: 0.8265\n",
            "Epoch 21/25\n",
            "250/250 [==============================] - 291s 1s/step - loss: 0.3081 - accuracy: 0.8664 - val_loss: 0.4813 - val_accuracy: 0.8310\n",
            "Epoch 22/25\n",
            "250/250 [==============================] - 288s 1s/step - loss: 0.2984 - accuracy: 0.8700 - val_loss: 0.4479 - val_accuracy: 0.8233\n",
            "Epoch 23/25\n",
            "250/250 [==============================] - 288s 1s/step - loss: 0.2869 - accuracy: 0.8767 - val_loss: 0.2697 - val_accuracy: 0.8282\n",
            "Epoch 24/25\n",
            "250/250 [==============================] - 292s 1s/step - loss: 0.2792 - accuracy: 0.8825 - val_loss: 0.6266 - val_accuracy: 0.8290\n",
            "Epoch 25/25\n",
            "250/250 [==============================] - 291s 1s/step - loss: 0.2635 - accuracy: 0.8871 - val_loss: 0.5074 - val_accuracy: 0.8308\n"
          ],
          "name": "stdout"
        },
        {
          "output_type": "execute_result",
          "data": {
            "text/plain": [
              "<keras.callbacks.callbacks.History at 0x7fd261a45908>"
            ]
          },
          "metadata": {
            "tags": []
          },
          "execution_count": 40
        }
      ]
    },
    {
      "cell_type": "markdown",
      "metadata": {
        "id": "U3PZasO0006Z",
        "colab_type": "text"
      },
      "source": [
        "## Part 4 - Making a single prediction"
      ]
    },
    {
      "cell_type": "code",
      "metadata": {
        "id": "gsSiWEJY1BPB",
        "colab_type": "code",
        "colab": {}
      },
      "source": [
        "import numpy as np\n",
        "from keras.preprocessing import image\n",
        "test_image = image.load_img('/content/drive/My Drive/dataset/single_prediction/cat_or_dog_1.jpg', target_size = (64, 64))\n",
        "test_image = image.img_to_array(test_image)\n",
        "test_image = np.expand_dims(test_image, axis = 0)\n",
        "result = classifier.predict(test_image)\n",
        "training_set.class_indices\n",
        "if result[0][0] == 1:\n",
        "  prediction = 'dog'\n",
        "else:\n",
        "  prediction = 'cat'"
      ],
      "execution_count": 45,
      "outputs": []
    },
    {
      "cell_type": "code",
      "metadata": {
        "id": "ED9KB3I54c1i",
        "colab_type": "code",
        "colab": {
          "base_uri": "https://localhost:8080/",
          "height": 34
        },
        "outputId": "2e3bdf37-e976-46e2-ca91-a5dd2ae56a17"
      },
      "source": [
        "print(prediction)"
      ],
      "execution_count": 46,
      "outputs": [
        {
          "output_type": "stream",
          "text": [
            "dog\n"
          ],
          "name": "stdout"
        }
      ]
    }
  ]
}